{
 "cells": [
  {
   "cell_type": "markdown",
   "source": [
    "# Mini Project 2 - David Wang"
   ],
   "metadata": {
    "collapsed": false
   },
   "id": "663d657d8ccb8a43"
  },
  {
   "cell_type": "markdown",
   "source": [
    "## Task 1"
   ],
   "metadata": {
    "collapsed": false
   },
   "id": "7166401e0c952cd7"
  },
  {
   "cell_type": "markdown",
   "source": [
    "Let's compute an expression for the gradient $\\nabla_{\\textbf{w}} f(\\textbf{x})$ $$f(\\textbf{w}) = w_1 \\phi(w_2x_1+w_3x_2+w_4x_3+w_5) + w_6 \\phi(w_7x_1+w_8x_2+w_9x_3 + w_{10}) + w_{11} \\phi(w_{12}x_1+w_{13}x_2+w_{14}x_3+w_{15}) + w_{16}$$\n",
    "$$\\nabla_{\\textbf{w}} f(\\textbf{x}) = \\begin{bmatrix} \\frac{\\partial f}{\\partial w_1} \\\\ \\frac{\\partial f}{\\partial w_2} \\\\ \\vdots \\\\ \\frac{\\partial f}{\\partial w_{16}} \\end{bmatrix} = \\begin{bmatrix} \\phi(w_2x_1+w_3x_2+w_4x_3+w_5) \\\\ w_1x_1\\phi'(w_2x_1+w_3x_2+w_4x_3+w_5) \\\\ w_1x_2\\phi'(w_2x_1+w_3x_2+w_4x_3+w_5) \\\\ w_1x_3\\phi'(w_2x_1+w_3x_2+w_4x_3+w_5) \\\\ w_1\\phi'(w_2x_1+w_3x_2+w_4x_3+w_5) \\\\ \\phi(w_7x_1+w_8x_2+w_9x_3 + w_{10}) \\\\ w_6x_1\\phi'(w_7x_1+w_8x_2+w_9x_3 + w_{10}) \\\\ w_6x_2\\phi'(w_7x_1+w_8x_2+w_9x_3 + w_{10}) \\\\ w_6x_3\\phi'(w_7x_1+w_8x_2+w_9x_3 + w_{10}) \\\\ w_6\\phi'(w_7x_1+w_8x_2+w_9x_3 + w_{10}) \\\\ \\phi(w_{12}x_1+w_{13}x_2+w_{14}x_3+w_{15}) \\\\ w_{11}x_1\\phi'(w_{12}x_1+w_{13}x_2+w_{14}x_3+w_{15}) \\\\ w_{11}x_2\\phi'(w_{12}x_1+w_{13}x_2+w_{14}x_3+w_{15}) \\\\ w_{11}x_3\\phi'(w_{12}x_1+w_{13}x_2+w_{14}x_3+w_{15}) \\\\ w_{11}\\phi'(w_{12}x_1+w_{13}x_2+w_{14}x_3+w_{15}) \\\\ 1 \\end{bmatrix}$$ where $\\phi(x) = \\frac{e^x - e^{-x}}{e^x + e^{-x}}$ and $\\phi'(x) = \\frac{(e^x+e^{-x})(e^x + e^{-x}) - (e^x - e^{-x})(e^x - e^{-x})}{(e^x + e^{-x})^2} = 1-\\phi^2(x)$."
   ],
   "metadata": {
    "collapsed": false
   },
   "id": "7b487e38376529dc"
  },
  {
   "cell_type": "markdown",
   "source": [
    "## Task 2"
   ],
   "metadata": {
    "collapsed": false
   },
   "id": "e0134f1858677d2a"
  },
  {
   "cell_type": "markdown",
   "source": [
    "Now we're going to compute the derivative matrix $\\textbf{Dr}(\\textbf{w})$\n",
    "$$\\textbf{r}(w)=\\begin{bmatrix} r_1(w) \\\\ r_2(w) \\\\ \\vdots \\\\ r_{N}(w) \\end{bmatrix}$$ The derivative matrix is therefore $$\\begin{bmatrix}\n",
    "\\nabla_{\\textbf{w}} r_1(\\textbf{w})^T \\\\\n",
    "\\nabla_{\\textbf{w}} r_2(\\textbf{w})^T \\\\\n",
    "\\vdots \\\\\n",
    "\\nabla_{\\textbf{w}} r_{N}(\\textbf{w})^T\n",
    "\\end{bmatrix}$$\n",
    "Note that $$ r_i(\\textbf{w}) = f_{\\textbf{w}}(\\textbf{x}^{(n)}) - y^{(n)} \\qquad n = 1, 2, \\dots, N$$\n",
    "Since $y^{(n)}$ is a constant that doesn't depend on $\\textbf{w}$, we can ignore it when computing the derivative matrix. Therefore, $$\\textbf{Dr}(\\textbf{w}) = \\begin{bmatrix}\n",
    "\\nabla_{\\textbf{w}} f_{\\textbf{w}}(\\textbf{x}^{(1)})^T \\\\\n",
    "\\nabla_{\\textbf{w}} f_{\\textbf{w}}(\\textbf{x}^{(2)})^T \\\\\n",
    "\\vdots \\\\\n",
    "\\nabla_{\\textbf{w}} f_{\\textbf{w}}(\\textbf{x}^{(N)})^T\n",
    "\\end{bmatrix}$$ with $\\nabla_{\\textbf{w}} f_{\\textbf{w}}(\\textbf{x}^{(n)})$ computed in Task 1."
   ],
   "metadata": {
    "collapsed": false
   },
   "id": "73c4909559162924"
  },
  {
   "cell_type": "markdown",
   "source": [
    "## Task 3"
   ],
   "metadata": {
    "collapsed": false
   },
   "id": "75f65005c2f532db"
  },
  {
   "cell_type": "markdown",
   "source": [
    "### (a) First we'll write code implementing the Levenberg-Marquardt algorithm."
   ],
   "metadata": {
    "collapsed": false
   },
   "id": "a99174d75bcdc077"
  },
  {
   "cell_type": "code",
   "execution_count": 1,
   "outputs": [],
   "source": [
    "# necessary imports\n",
    "import numpy as np\n",
    "import matplotlib.pyplot as plt\n",
    "import pandas as pd"
   ],
   "metadata": {
    "collapsed": false,
    "ExecuteTime": {
     "end_time": "2023-12-04T04:55:43.421083Z",
     "start_time": "2023-12-04T04:55:42.953231Z"
    }
   },
   "id": "b1e6320b24b6f8ef"
  },
  {
   "cell_type": "markdown",
   "source": [
    "The Levenberg-Marquardt algorithm is an iterative method for solving the nonlinear least squares problem. We first need to define the first order Taylor approximation of our function $\\textbf{r}(\\textbf{w})$ around the current estimate $\\textbf{w}^{(k)}$ $$\\textbf{r}(\\textbf{w};\\textbf{w}^{(k)}) = \\textbf{r}(\\textbf{w}^{(k)}) + \\textbf{Dr}(\\textbf{w}^{(k)})(\\textbf{w} - \\textbf{w}^{(k)})$$\n",
    " For each iteration, we want to choose $w^{(k+1)}$ such that it is a solution to the following:\n",
    "    $$\\min_{\\textbf{w}}\\Vert\\textbf{r}(\\textbf{w};\\textbf{w}^{(k)})\\Vert_2^2 + \\lambda^{(k)}\\Vert \\textbf{w}-\\textbf{w}^{(k)} \\Vert$$\n",
    "Substituting the first order Taylor approximation into the above expression, we get\n",
    "$$\\min_{\\textbf{w}}\\Vert\\textbf{r}(\\textbf{w}^{(k)}) + \\textbf{Dr}(\\textbf{w}^{(k)})(\\textbf{w} - \\textbf{w}^{(k)})\\Vert_2^2 + \\lambda^{(k)}\\Vert \\textbf{w}-\\textbf{w}^{(k)} \\Vert = \\min_{\\textbf{w}}\\Vert\\textbf{Dr}(\\textbf{w}^{(k)})\\textbf{w} - (\\textbf{Dr}(\\textbf{w}^{(k)})\\textbf{w}^{(k)} - \\textbf{r}(\\textbf{w}^{(k)}))\\Vert_2^2 + \\Vert \\sqrt{\\lambda^{(k)}}\\textbf{w}-\\sqrt{\\lambda^{(k)}}\\textbf{w}^{(k)} \\Vert_2^2$$\n",
    "This minimization problem is now in the form of a multi-objective least squares problem. By stacking, we can rewrite the above expression as:\n",
    "$$\\min_{\\textbf{w}}\\left\\Vert\\begin{bmatrix} \\textbf{Dr}(\\textbf{w}^{(k)}) \\\\ \\sqrt{\\lambda^{(k)}}\\textbf{I} \\end{bmatrix}\\textbf{w} - \\begin{bmatrix} \\textbf{Dr}(\\textbf{w}^{(k)})\\textbf{w}^{(k)} - \\textbf{r}(\\textbf{w}^{(k)}) \\\\ \\sqrt{\\lambda^{(k)}}\\textbf{w}^{(k)} \\end{bmatrix}\\right\\Vert_2^2$$\n",
    "Applying the normal equation, we get:\n",
    "$$\\textbf{w}^{(k+1)} = \\textbf{w}^{(k)} - \\left(\\textbf{Dr}(\\textbf{w}^{(k)})^T\\textbf{Dr}(\\textbf{w}^{(k)}) + \\lambda^{(k)}\\textbf{I}\\right)^{-1}\\textbf{Dr}(\\textbf{w}^{(k)})^T\\textbf{r}(\\textbf{w}^{(k)})$$\n",
    "Then, we check if $\\Vert\\textbf{r}(\\textbf{w}^{(k+1)})\\Vert_2^2 < \\Vert\\textbf{r}(\\textbf{w}^{(k)})\\Vert_2^2$. If so, we scale $\\lambda^{(k)}$ by $0.8$ and set $\\textbf{w}^{(k)} = \\textbf{w}^{(k+1)}$. Otherwise, we increase $\\lambda^{(k)}$ by a factor of $2$ and do not update $\\textbf{w^{(k)}}$. We repeat this process until either $\\Vert 2\\textbf{Dr}(\\textbf{w}^{(k+1)})^T\\textbf{r}(\\textbf{w}^{(k+1)})\\Vert_2^2 < 10^{-2}$ or $\\Vert\\textbf{r}(\\textbf{w}^{(k + 1)})\\Vert_2^2 < 10^{-2}$"
   ],
   "metadata": {
    "collapsed": false
   },
   "id": "3bd08e129a39ec6b"
  },
  {
   "cell_type": "code",
   "execution_count": 2,
   "outputs": [],
   "source": [
    "# our nonlinear function\n",
    "def g(x):\n",
    "    return x[0]*x[1] + x[2]\n",
    "\n",
    "# hyperbolic tangent function\n",
    "def phi(x):\n",
    "    return (np.exp(x) - np.exp(-x))/(np.exp(x) + np.exp(-x))\n",
    "\n",
    "def phi_prime(x):\n",
    "    return 1 - phi(x)**2\n",
    "\n",
    "def r(x, y, w):\n",
    "    vector = np.array([])\n",
    "    for i in range(len(x)):\n",
    "        vector = np.append(vector, w[0] * phi(w[1:4] @ x[i] + w[4]) + w[5] * phi(w[6:9] @ x[i] + w[9]) + w[10] * phi(w[11:14] @ x[i] + w[14]) + w[15] - y[i])\n",
    "    return vector\n",
    "\n",
    "def training_loss(x, y, w, lam):\n",
    "    return np.inner(r(x, y, w), r(x, y, w)) + lam * np.inner(w, w)\n",
    "\n",
    "# identity matrix for future use\n",
    "I = np.identity(16)"
   ],
   "metadata": {
    "collapsed": false,
    "ExecuteTime": {
     "end_time": "2023-12-04T04:55:51.111018Z",
     "start_time": "2023-12-04T04:55:51.104219Z"
    }
   },
   "id": "766427e4ebb3f3d4"
  },
  {
   "cell_type": "code",
   "execution_count": 3,
   "outputs": [],
   "source": [
    "# helper functions to compute Dr\n",
    "def gradient(x, w):\n",
    "    return np.array([phi(w[1]*x[0] + w[2]*x[1] + w[3]*x[2] + w[4]), \n",
    "        w[0]*x[0]*phi_prime(w[1]*x[0] + w[2]*x[1] + w[3]*x[2] + w[4]), \n",
    "        w[0]*x[1]*phi_prime(w[1]*x[0] + w[2]*x[1] + w[3]*x[2] + w[4]), \n",
    "        w[0]*x[2]*phi_prime(w[1]*x[0] + w[2]*x[1] + w[3]*x[2] + w[4]), \n",
    "        w[0]*phi_prime(w[1]*x[0] + w[2]*x[1] + w[3]*x[2] + w[4]),\n",
    "        phi(w[6]*x[0] + w[7]*x[1] + w[8]*x[2] + w[9]),\n",
    "        w[5]*x[0]*phi_prime(w[6]*x[0] + w[7]*x[1] + w[8]*x[2] + w[9]),\n",
    "        w[5]*x[1]*phi_prime(w[6]*x[0] + w[7]*x[1] + w[8]*x[2] + w[9]),\n",
    "        w[5]*x[2]*phi_prime(w[6]*x[0] + w[7]*x[1] + w[8]*x[2] + w[9]),\n",
    "        w[5]*phi_prime(w[6]*x[0] + w[7]*x[1] + w[8]*x[2] + w[9]),\n",
    "        phi(w[11]*x[0] + w[12]*x[1] + w[13]*x[2] + w[14]),\n",
    "        w[10]*x[0]*phi_prime(w[11]*x[0] + w[12]*x[1] + w[13]*x[2] + w[14]),\n",
    "        w[10]*x[1]*phi_prime(w[11]*x[0] + w[12]*x[1] + w[13]*x[2] + w[14]),\n",
    "        w[10]*x[2]*phi_prime(w[11]*x[0] + w[12]*x[1] + w[13]*x[2] + w[14]),\n",
    "        w[10]*phi_prime(w[11]*x[0] + w[12]*x[1] + w[13]*x[2] + w[14]),\n",
    "        1])\n",
    "\n",
    "def jacobian(x, w):\n",
    "    matrix = gradient(x[0], w)\n",
    "    for i in range(1, len(x)):\n",
    "        matrix = np.vstack((matrix, gradient(x[i], w)))\n",
    "    return matrix"
   ],
   "metadata": {
    "collapsed": false,
    "ExecuteTime": {
     "end_time": "2023-12-04T04:55:54.941524Z",
     "start_time": "2023-12-04T04:55:54.925322Z"
    }
   },
   "id": "e3b7c60ccb8d941e"
  },
  {
   "cell_type": "code",
   "execution_count": 4,
   "outputs": [],
   "source": [
    "# levenberg-marquardt algorithm\n",
    "# inputs: x and y pairs, lambda, initial w vector\n",
    "# output: optimal w vector\n",
    "\n",
    "def levenberg_marquardt(x, y, lam, w0):\n",
    "    # initialize\n",
    "    w = w0\n",
    "    \n",
    "    loss = np.array([])\n",
    "    \n",
    "    # iterate until stopping criterion is met\n",
    "    while True:\n",
    "        \n",
    "        function = r(x, y, w)\n",
    "        \n",
    "        # compute Dr(w)\n",
    "        Dr = jacobian(x, w)\n",
    "\n",
    "        w_next = w - (np.linalg.inv(Dr.T @ Dr + lam * I) @ Dr.T @ function)\n",
    "        \n",
    "        # check tentative iterate\n",
    "        function_next = r(x, y, w_next)\n",
    "        if np.inner(function_next, function_next) < np.inner(function, function):\n",
    "            lam = 0.8 * lam\n",
    "            w = w_next\n",
    "            function = function_next\n",
    "        else:\n",
    "            lam = 2 * lam\n",
    "        \n",
    "        # training loss\n",
    "        loss = np.append(loss, training_loss(x, y, w, lam))\n",
    "        # stopping criterion\n",
    "        optimality = np.linalg.norm(2 * Dr.T @ function)\n",
    "        small_residual = np.inner(function, function)\n",
    "        print(str(small_residual) + \" \" + str(optimality))\n",
    "        if small_residual < 10**-3 or optimality < 10**(-2):\n",
    "            return w, loss"
   ],
   "metadata": {
    "collapsed": false,
    "ExecuteTime": {
     "end_time": "2023-12-04T04:56:08.936136Z",
     "start_time": "2023-12-04T04:56:08.913Z"
    }
   },
   "id": "8bb04edb7d6af8e8"
  },
  {
   "cell_type": "markdown",
   "source": [
    "### Training our algorithm"
   ],
   "metadata": {
    "collapsed": false
   },
   "id": "aa8027d2f66a8a61"
  },
  {
   "cell_type": "code",
   "execution_count": 5,
   "outputs": [],
   "source": [
    "# generate data\n",
    "np.random.seed(2023)\n",
    "\n",
    "# get x values between -1 and 1\n",
    "x = np.random.rand(500, 3) * 2 - 1\n",
    "\n",
    "# get y values\n",
    "y = np.array([])\n",
    "for i in range(len(x)):\n",
    "    y = np.append(y, g(x[i]))"
   ],
   "metadata": {
    "collapsed": false,
    "ExecuteTime": {
     "end_time": "2023-12-04T04:56:13.248125Z",
     "start_time": "2023-12-04T04:56:13.241441Z"
    }
   },
   "id": "2e5908a6fe8bb556"
  },
  {
   "cell_type": "code",
   "execution_count": 6,
   "outputs": [],
   "source": [
    "# initialize w\n",
    "w0 = np.random.rand(16)\n"
   ],
   "metadata": {
    "collapsed": false,
    "ExecuteTime": {
     "end_time": "2023-12-04T04:56:14.707819Z",
     "start_time": "2023-12-04T04:56:14.689615Z"
    }
   },
   "id": "f2fb065cd56aeaf9"
  },
  {
   "cell_type": "code",
   "execution_count": 7,
   "outputs": [
    {
     "data": {
      "text/plain": "array([0.93598278, 0.16108613, 0.0260887 , 0.89908976, 0.75798436,\n       0.01179386, 0.79718855, 0.03434188, 0.19466135, 0.20290228,\n       0.60466474, 0.47143157, 0.22701238, 0.69724592, 0.27901237,\n       0.05160081])"
     },
     "execution_count": 7,
     "metadata": {},
     "output_type": "execute_result"
    }
   ],
   "source": [
    "w0"
   ],
   "metadata": {
    "collapsed": false,
    "ExecuteTime": {
     "end_time": "2023-12-04T04:56:18.250330Z",
     "start_time": "2023-12-04T04:56:18.232641Z"
    }
   },
   "id": "3e4d7051442e7ae1"
  },
  {
   "cell_type": "code",
   "execution_count": 8,
   "outputs": [
    {
     "name": "stdout",
     "output_type": "stream",
     "text": [
      "334.62863759266605 1038.8863667808112\n",
      "334.62863759266605 1038.8863667808112\n",
      "334.62863759266605 1038.8863667808112\n",
      "334.62863759266605 1038.8863667808112\n",
      "334.62863759266605 1038.8863667808112\n",
      "334.62863759266605 1038.8863667808112\n",
      "334.62863759266605 1038.8863667808112\n",
      "334.62863759266605 1038.8863667808112\n",
      "334.62863759266605 1038.8863667808112\n",
      "334.62863759266605 1038.8863667808112\n",
      "334.62863759266605 1038.8863667808112\n",
      "334.62863759266605 1038.8863667808112\n",
      "334.62863759266605 1038.8863667808112\n",
      "184.39650665013795 568.1929747587086\n",
      "184.39650665013795 634.0271080586617\n",
      "184.39650665013795 634.0271080586617\n",
      "184.39650665013795 634.0271080586617\n",
      "101.92237156838944 355.8776650387466\n",
      "65.17774273684368 285.59574447761497\n",
      "65.17774273684368 274.028702653475\n",
      "44.044524424113995 153.18074875933362\n",
      "23.48153272874221 72.83052295414672\n",
      "16.165701942485736 25.519936957449197\n",
      "13.860635149003201 40.18965788015912\n",
      "8.91282112524231 45.66593957806478\n",
      "3.3549185668663513 61.10394123866692\n",
      "1.7110310993133424 23.49641179093751\n",
      "1.357328009289252 17.53479665759118\n",
      "1.1234868982664616 10.477680850940553\n",
      "0.9522781236198601 7.87985889508969\n",
      "0.8166934001772073 6.892494343950161\n",
      "0.7064372424314784 6.508381621430327\n",
      "0.6151993499020858 6.3081166191498905\n",
      "0.5386859555661947 6.1771017439481035\n",
      "0.4738006469862176 6.092135363685693\n",
      "0.41825619013466125 6.053630634966198\n",
      "0.37033155641454635 6.063992068077725\n",
      "0.3287094934122957 6.123547330633996\n",
      "0.2923645447169587 6.230802590358626\n",
      "0.2604851913230479 6.383496661559574\n",
      "0.23241915881653447 6.579314312555939\n",
      "0.20763463202560545 6.816310015832569\n",
      "0.1856923834274038 7.093079544840097\n",
      "0.16622548167703433 7.408828479114296\n",
      "0.14892429443748134 7.763369477499913\n",
      "0.13352524749552724 8.157110059422221\n",
      "0.1198022713167626 8.59103204617693\n",
      "0.107560202962206 9.066685908714808\n",
      "0.09662962330504153 9.586194030728356\n",
      "0.08686276570862743 10.152272403420056\n",
      "0.07813023146736972 10.76826630568689\n",
      "0.07031832274211773 11.438204025302927\n",
      "0.06332685217866643 12.16686775644366\n",
      "0.05706732620131799 12.959882635370844\n",
      "0.0514614239016184 13.82382692194489\n",
      "0.046439712870728816 14.76636165932104\n",
      "0.04194055698432292 15.796386753078018\n",
      "0.03790918114524906 16.924218903207944\n",
      "0.034296866152682265 18.161802634361134\n",
      "0.031060251744323496 19.52294631938755\n",
      "0.028160731346681532 21.023599263840264\n",
      "0.025563924005065 22.682157554138797\n",
      "0.023239213231509435 24.519821088580706\n",
      "0.021159342511067495 26.56098299243316\n",
      "0.019300061200522443 28.833683623597558\n",
      "0.017639813060455888 31.370102677417446\n",
      "0.0161594638293204 34.20713335505095\n",
      "0.01484206141730841 37.38699975606398\n",
      "0.013672627458502819 40.95798553244738\n",
      "0.012637974313373816 44.97521745705479\n",
      "0.01172654767733142 49.50158623424408\n",
      "0.010928289794526366 54.60874943494671\n",
      "0.010234524513042787 60.37831524572024\n",
      "0.009637859233269765 66.90313333748483\n",
      "0.009132105609750887 74.28880201712902\n",
      "0.00871221680292051 82.65538368146689\n",
      "0.008374239256173742 92.139316943713\n",
      "0.008115281811034825 102.89564564492288\n",
      "0.007933500859470385 115.10060162824517\n",
      "0.007828087142201947 128.95410998894536\n",
      "0.007799311274587963 144.68394453873265\n",
      "0.007799311274587963 153.47534663709044\n",
      "0.0034305839273623003 46.68759440327959\n",
      "0.0034305839273623003 48.14734906196095\n",
      "0.003018594013361368 16.670278231813164\n",
      "0.002954108897467244 23.154567742108345\n",
      "0.002898408435094448 30.684582584117965\n",
      "0.00286935051930646 40.51335475893534\n",
      "0.00286935051930646 41.61563069788549\n",
      "0.002586469290290133 14.299457464971963\n",
      "0.002534371833873442 20.468117615183406\n",
      "0.0024893531706150027 27.974504434580485\n",
      "0.0024658799246545775 37.93195042196007\n",
      "0.0024658799246545775 38.862607984191385\n",
      "0.0022573114177137097 13.586345348827445\n",
      "0.002215272007236404 19.680808292488216\n",
      "0.0021794985848739143 27.287349810735524\n",
      "0.0021626082527242234 37.500070292635364\n",
      "0.0021626082527242234 38.35200323661926\n",
      "0.0019929677117282354 13.524961625259735\n",
      "0.0019588999751586063 19.729935114472735\n",
      "0.0019309186221950804 27.599088731732976\n",
      "0.00192066404721537 38.25885213122073\n",
      "0.00192066404721537 39.07863156201867\n",
      "0.0017738112657550839 13.854980684098617\n",
      "0.0017461869577644817 20.30940009202514\n",
      "0.0017248724331470542 28.58660596817428\n",
      "0.0017210618785072334 39.87634710162287\n",
      "0.0017210618785072334 40.693046707726744\n",
      "0.0015880956565363564 14.478569962615644\n",
      "0.0015658425637532526 21.300110373243776\n",
      "0.001550387255358143 30.119331118077916\n",
      "0.001550387255358143 30.62787955700184\n",
      "0.0014745005577479103 11.063942136890196\n",
      "0.0014532637962216674 16.387665281546962\n",
      "0.0014348086954943649 23.565239505115635\n",
      "0.0014257507256326186 33.419788282901955\n",
      "0.0014257507256326186 33.985459757624874\n",
      "0.0013475941908148584 12.29228070852311\n",
      "0.0013297425494370528 18.228714230910658\n",
      "0.0013158749313269798 26.249904383663612\n",
      "0.0013133253022892919 37.26929885326176\n",
      "0.0013133253022892919 37.90151035009156\n",
      "0.001231826464433268 13.710449169506175\n",
      "0.0012172733176259065 20.343234546459634\n",
      "0.001207976727822683 29.318565874945808\n",
      "0.001207976727822683 29.740032021526343\n",
      "0.0011572159932204795 10.822174666984806\n",
      "0.0011431753304182233 16.218935169653346\n",
      "0.0011314234221458574 23.54259581376004\n",
      "0.0011275787412899202 33.93272798876582\n",
      "0.0011275787412899202 34.43531978882307\n",
      "0.0010706593592675702 12.514246768004249\n",
      "0.0010589006418806328 18.755309959488503\n",
      "0.0010507590072103491 27.197140526000123\n",
      "0.0010507590072103491 27.544416580331433\n",
      "0.0010134279050259363 10.129910345143907\n",
      "0.0010021373602930172 15.202941887061446\n",
      "0.0009925876952730918 22.3242092059897\n"
     ]
    }
   ],
   "source": [
    "w, loss = levenberg_marquardt(x, y, 10**-4, w0)"
   ],
   "metadata": {
    "collapsed": false,
    "ExecuteTime": {
     "end_time": "2023-12-04T04:56:32.896417Z",
     "start_time": "2023-12-04T04:56:24.884611Z"
    }
   },
   "id": "96edde6ec43ed76a"
  },
  {
   "cell_type": "markdown",
   "source": [
    "#### Plotting the training loss"
   ],
   "metadata": {
    "collapsed": false
   },
   "id": "f921aaf0eabc5ec8"
  },
  {
   "cell_type": "code",
   "execution_count": 9,
   "outputs": [
    {
     "data": {
      "text/plain": "[<matplotlib.lines.Line2D at 0x121652410>]"
     },
     "execution_count": 9,
     "metadata": {},
     "output_type": "execute_result"
    },
    {
     "data": {
      "text/plain": "<Figure size 640x480 with 1 Axes>",
      "image/png": "[encoded data removed]"
     },
     "metadata": {},
     "output_type": "display_data"
    }
   ],
   "source": [
    "plt.plot(loss)"
   ],
   "metadata": {
    "collapsed": false,
    "ExecuteTime": {
     "end_time": "2023-12-04T04:56:37.315367Z",
     "start_time": "2023-12-04T04:56:37.245744Z"
    }
   },
   "id": "718da614dab42913"
  },
  {
   "cell_type": "code",
   "execution_count": 38,
   "outputs": [
    {
     "data": {
      "text/plain": "array([3.34629479e+02, 3.34630321e+02, 3.34632004e+02, 3.34635370e+02,\n       3.34642102e+02, 3.34655566e+02, 3.34682494e+02, 3.34736351e+02,\n       3.34844064e+02, 3.35059491e+02, 3.35490344e+02, 3.36352050e+02,\n       3.38075463e+02, 1.89391190e+02, 1.94385873e+02, 2.04375239e+02,\n       2.24353970e+02, 1.29220407e+02, 8.85878178e+01, 1.11997893e+02,\n       8.39716236e+01, 6.33164984e+01, 5.37776118e+01, 4.68123676e+01,\n       3.85216439e+01, 2.98756585e+01, 2.36812312e+01, 2.00944879e+01,\n       1.74020634e+01, 1.52083457e+01, 1.33641331e+01, 1.17893004e+01,\n       1.04282654e+01, 9.24175433e+00, 8.20115439e+00, 7.28480612e+00,\n       6.47564760e+00, 5.75978355e+00, 5.12560522e+00, 4.56323529e+00,\n       4.06416248e+00, 3.62098950e+00, 3.22725000e+00, 2.87726944e+00,\n       2.56605495e+00, 2.28920534e+00, 2.04283585e+00, 1.82351413e+00,\n       1.62820517e+00, 1.45422358e+00, 1.29919192e+00, 1.16100433e+00,\n       1.03779460e+00, 9.27908137e-01, 8.29877350e-01, 7.42399944e-01,\n       6.64319845e-01, 5.94610376e-01, 5.32359430e-01, 4.76756392e-01,\n       4.27080598e-01, 3.82691144e-01, 3.43017884e-01, 3.07553472e-01,\n       2.75846330e-01, 2.47494423e-01, 2.22139750e-01, 1.99463473e-01,\n       1.79181593e-01, 1.61041130e-01, 1.44816735e-01, 1.30307684e-01,\n       1.17335219e-01, 1.05740198e-01, 9.53809983e-02, 8.61316815e-02,\n       7.78803536e-02, 7.05277279e-02, 6.39858564e-02, 5.81770012e-02,\n       5.30326886e-02, 9.82660659e-02, 8.03212262e-02, 1.57211868e-01,\n       1.30359866e-01, 1.09008632e-01, 9.17674806e-02, 7.78181213e-02,\n       1.52766892e-01, 1.26195422e-01, 1.05011033e-01, 8.79414486e-02,\n       7.41656449e-02, 1.45865410e-01, 1.20187701e-01, 9.96898788e-02,\n       8.31947845e-02, 6.99036193e-02, 1.37644630e-01, 1.13203818e-01,\n       9.36867847e-02, 7.79944429e-02, 6.53641434e-02, 1.28807623e-01,\n       1.05789561e-01, 8.74094821e-02, 7.26404878e-02, 6.07635505e-02,\n       1.19806039e-01, 9.82924485e-02, 8.11182421e-02, 6.73249068e-02,\n       1.33099426e-01, 1.08790006e-01, 8.93449656e-02, 7.37432364e-02,\n       6.12162128e-02, 1.21006675e-01, 9.89046757e-02, 8.12340390e-02,\n       6.70576207e-02, 5.56782243e-02, 1.10043123e-01, 8.99403166e-02,\n       7.38779925e-02, 6.09937292e-02, 1.20779482e-01, 9.84343270e-02,\n       8.05600007e-02, 6.62302161e-02, 5.47369944e-02, 1.08346410e-01,\n       8.83407185e-02, 7.23464828e-02, 5.95241608e-02, 1.17997563e-01,\n       9.59853584e-02, 7.83748434e-02, 6.42625695e-02])"
     },
     "execution_count": 38,
     "metadata": {},
     "output_type": "execute_result"
    }
   ],
   "source": [],
   "metadata": {
    "collapsed": false,
    "ExecuteTime": {
     "end_time": "2023-12-04T04:21:07.556217Z",
     "start_time": "2023-12-04T04:21:07.530363Z"
    }
   },
   "id": "1c0f9ddf568b805d"
  },
  {
   "cell_type": "code",
   "execution_count": 10,
   "outputs": [
    {
     "name": "stdout",
     "output_type": "stream",
     "text": [
      "[-0.6, 0.1, -0.1]\n",
      "-0.16057981839461366 -0.16\n"
     ]
    }
   ],
   "source": [
    "test = [-0.6, 0.1, -.1]\n",
    "print(test)\n",
    "print(w[0] * phi(w[1:4] @ test + w[4]) + w[5] * phi(w[6:9] @ test + w[9]) + w[10] * phi(w[11:14] @ test + w[14]) + w[15], g(test))\n"
   ],
   "metadata": {
    "collapsed": false,
    "ExecuteTime": {
     "end_time": "2023-12-04T04:56:59.326612Z",
     "start_time": "2023-12-04T04:56:59.320934Z"
    }
   },
   "id": "27495e8c71c098d5"
  },
  {
   "cell_type": "code",
   "execution_count": 79,
   "outputs": [
    {
     "name": "stdout",
     "output_type": "stream",
     "text": [
      "[[-0.35602339  0.7808449   0.17610451]\n",
      " [-0.74680781 -0.71731755 -0.06420882]]\n",
      "[]\n",
      "[[-0.35602339  0.7808449   0.17610451]\n",
      " [-0.74680781 -0.71731755 -0.06420882]]\n",
      "[-0.00214422]\n",
      "[-0.00214422 -0.00018823]\n"
     ]
    }
   ],
   "source": [
    "print(r(x[0:2], y[0:2], w))"
   ],
   "metadata": {
    "collapsed": false,
    "ExecuteTime": {
     "end_time": "2023-12-04T04:45:48.671852Z",
     "start_time": "2023-12-04T04:45:48.666867Z"
    }
   },
   "id": "506d896e987d08c7"
  },
  {
   "cell_type": "code",
   "execution_count": null,
   "outputs": [],
   "source": [],
   "metadata": {
    "collapsed": false
   },
   "id": "b674c887880eb7aa"
  }
 ],
 "metadata": {
  "kernelspec": {
   "display_name": "Python 3",
   "language": "python",
   "name": "python3"
  },
  "language_info": {
   "codemirror_mode": {
    "name": "ipython",
    "version": 2
   },
   "file_extension": ".py",
   "mimetype": "text/x-python",
   "name": "python",
   "nbconvert_exporter": "python",
   "pygments_lexer": "ipython2",
   "version": "2.7.6"
  }
 },
 "nbformat": 4,
 "nbformat_minor": 5
}
